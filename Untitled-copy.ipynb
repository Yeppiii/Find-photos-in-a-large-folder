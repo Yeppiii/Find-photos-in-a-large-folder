{
 "cells": [
  {
   "cell_type": "code",
   "execution_count": 1,
   "id": "4628cd41",
   "metadata": {},
   "outputs": [],
   "source": [
    "import cv2\n",
    "import os\n",
    "\n",
    "# Định nghĩa hàm để tải ảnh lớn vào RAM\n",
    "def load_images_into_memory(large_image_folder):\n",
    "    large_images = {}  # Tạo một từ điển để lưu trữ hình ảnh\n",
    "\n",
    "    # Load and resize all large images into memory\n",
    "    for filename in os.listdir(large_image_folder):\n",
    "        large_image_path = os.path.join(large_image_folder, filename)\n",
    "        large_image = cv2.imread(large_image_path)\n",
    "        if large_image is not None:\n",
    "            large_image = cv2.resize(large_image, (0, 0), fx=0.1, fy=0.1)\n",
    "            large_images[large_image_path] = large_image\n",
    "        else:\n",
    "            print(f\"Error loading large image: {large_image_path}\")\n",
    "\n",
    "    return large_images\n",
    "\n",
    "# Thư mục chứa các ảnh lớn\n",
    "large_image_folder = \"D:\\CPV301\\PE\\img_align_celeba\"\n",
    "\n",
    "# Load large images into memory\n",
    "large_images = load_images_into_memory(large_image_folder)\n"
   ]
  },
  {
   "cell_type": "code",
   "execution_count": 5,
   "id": "8fbfc9eb",
   "metadata": {},
   "outputs": [
    {
     "name": "stdout",
     "output_type": "stream",
     "text": [
      "Template image is ready\n"
     ]
    }
   ],
   "source": [
    "# Đường dẫn đến ảnh mẫu\n",
    "template_folder = r\"D:\\CPV301\\PE\\TemplateFolder\"\n",
    "template_image_name = \"7.jpg\"\n",
    "\n",
    "# Construct the full path to the template image\n",
    "template_image_path = os.path.join(template_folder, template_image_name)\n",
    "\n",
    "# Check if the template image exists\n",
    "if not os.path.isfile(template_image_path):\n",
    "    print(f\"Template image not found: {template_image_path}\")\n",
    "else:\n",
    "    # Read and resize the template image once\n",
    "    template_image = cv2.imread(template_image_path)\n",
    "    if template_image is not None:\n",
    "        template_image = cv2.resize(template_image, (0, 0), fx=0.1, fy=0.1)\n",
    "        print(\"Template image is ready\")\n",
    "    else:\n",
    "        print(f\"Error loading template image: {template_image_path}\")\n"
   ]
  },
  {
   "cell_type": "code",
   "execution_count": 3,
   "id": "0462e3bc",
   "metadata": {},
   "outputs": [],
   "source": [
    "import time"
   ]
  },
  {
   "cell_type": "code",
   "execution_count": 6,
   "id": "dde0ad9f",
   "metadata": {},
   "outputs": [
    {
     "name": "stdout",
     "output_type": "stream",
     "text": [
      "Ảnh mẫu được tìm thấy trong D:\\CPV301\\PE\\img_align_celeba\\202599.jpg\n",
      "Thời gian chạy: 10.723914861679077 giây\n"
     ]
    }
   ],
   "source": [
    "from concurrent.futures import ThreadPoolExecutor\n",
    "start_time = time.time()\n",
    "# Định nghĩa hàm để tìm ảnh trong dữ liệu đã tải lên RAM và hiển thị nguồn ảnh bằng Matplotlib\n",
    "def match_template_in_memory(large_image, template_image, threshold, source_image_path, result_list):\n",
    "    result = cv2.matchTemplate(large_image, template_image, cv2.TM_CCOEFF_NORMED)\n",
    "\n",
    "    # Tìm giá trị tối đa trong kết quả\n",
    "    max_val = cv2.minMaxLoc(result)[1]\n",
    "\n",
    "    if max_val > threshold:\n",
    "        print(f\"Ảnh mẫu được tìm thấy trong {source_image_path}\")\n",
    "        end_time = time.time()\n",
    "        execution_time = end_time - start_time\n",
    "        print(f\"Thời gian chạy: {execution_time} giây\")\n",
    "        # Thêm kết quả vào danh sách\n",
    "        result_list.append(True)\n",
    "\n",
    "# List of large image paths\n",
    "large_image_paths = list(large_images.keys())\n",
    "\n",
    "# Sử dụng ThreadPoolExecutor cho xử lý song song\n",
    "with ThreadPoolExecutor(max_workers=80000) as executor:\n",
    "    result_list = []  # Danh sách kết quả, ban đầu rỗng\n",
    "    for image_path in large_image_paths:\n",
    "        if not result_list:  # Kiểm tra danh sách kết quả, nếu đã tìm thấy ảnh đầu tiên, không xử lý thêm\n",
    "            executor.submit(match_template_in_memory, large_images[image_path], template_image, 0.88, image_path, result_list)"
   ]
  }
 ],
 "metadata": {
  "kernelspec": {
   "display_name": "Python 3 (ipykernel)",
   "language": "python",
   "name": "python3"
  },
  "language_info": {
   "codemirror_mode": {
    "name": "ipython",
    "version": 3
   },
   "file_extension": ".py",
   "mimetype": "text/x-python",
   "name": "python",
   "nbconvert_exporter": "python",
   "pygments_lexer": "ipython3",
   "version": "3.11.6"
  }
 },
 "nbformat": 4,
 "nbformat_minor": 5
}
